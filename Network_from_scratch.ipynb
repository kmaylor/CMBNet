{
 "cells": [
  {
   "cell_type": "code",
   "execution_count": 1,
   "metadata": {},
   "outputs": [
    {
     "name": "stdout",
     "output_type": "stream",
     "text": [
      "Populating the interactive namespace from numpy and matplotlib\n"
     ]
    }
   ],
   "source": [
    "%pylab notebook"
   ]
  },
  {
   "cell_type": "code",
   "execution_count": 6,
   "metadata": {},
   "outputs": [],
   "source": [
    "from numpy.random import rand"
   ]
  },
  {
   "cell_type": "code",
   "execution_count": 45,
   "metadata": {},
   "outputs": [],
   "source": [
    "class layer(object):\n",
    "    \n",
    "    def __init__(self,shape):\n",
    "        self.weights = rand(shape[0],shape[1]+1)\n",
    "        \n",
    "    def __call__(self,inputs):\n",
    "        return self.sigmoid(dot(self.weights,append(inputs,[1])))\n",
    "        \n",
    "    def sigmoid(self,x):\n",
    "        return 1/(1+exp(-x))"
   ]
  },
  {
   "cell_type": "code",
   "execution_count": 137,
   "metadata": {},
   "outputs": [],
   "source": [
    "class network(object):\n",
    "    \n",
    "    def __init__(self,shapes):\n",
    "        self.layers=[]\n",
    "        for i,s in enumerate(shapes):\n",
    "            self.layers.append(layer(s))\n",
    "    \n",
    "    def __call__(self,inputs):\n",
    "        for l in self.layers:\n",
    "            inputs=l(inputs)\n",
    "        return inputs\n",
    "    \n",
    "    def layer_output(self,inputs,layer_num):\n",
    "        for l in self.layers[:layer_num]:\n",
    "            inputs=l(inputs)\n",
    "        return inputs\n",
    "    \n",
    "    def backpropagation(self,inputs,target,learning_curve):\n",
    "        output=self.__call__(inputs)\n",
    "        err = output-target\n",
    "        Cost = dot(err,err)\n",
    "        sig_der=lambda sigmoid:sigmoid*(1-sigmoid)\n",
    "        delta = learning_curve*dot(err,sig_der(output))\n",
    "        if len(self.layers)-1==0:\n",
    "            self.layers[-1].weights+=-outer(delta,append(inputs,[1]))\n",
    "        else:                 \n",
    "            self.layers[-1].weights+=-outer(delta,\n",
    "                                        append(self.layer_output(inputs,len(self.layers)-1),[1]))\n",
    "            \n",
    "        for layer in reverse(self.layers[:-1]):\n",
    "            layer.weights+=\n",
    "            "
   ]
  },
  {
   "cell_type": "code",
   "execution_count": 138,
   "metadata": {},
   "outputs": [],
   "source": [
    "network([[10,6],[12,10]]).backpropagation(ones(6),ones(12),1)"
   ]
  },
  {
   "cell_type": "code",
   "execution_count": 54,
   "metadata": {},
   "outputs": [],
   "source": [
    "f=lambda x: x**2"
   ]
  },
  {
   "cell_type": "code",
   "execution_count": 55,
   "metadata": {},
   "outputs": [],
   "source": [
    "from numpy import gradient"
   ]
  },
  {
   "cell_type": "code",
   "execution_count": 56,
   "metadata": {},
   "outputs": [
    {
     "data": {
      "text/plain": [
       "array([ 1.,  2.,  4.,  5.])"
      ]
     },
     "execution_count": 56,
     "metadata": {},
     "output_type": "execute_result"
    }
   ],
   "source": [
    "gradient(f(arange(4)))"
   ]
  },
  {
   "cell_type": "code",
   "execution_count": 57,
   "metadata": {},
   "outputs": [
    {
     "data": {
      "text/plain": [
       "array([0, 1, 4, 9])"
      ]
     },
     "execution_count": 57,
     "metadata": {},
     "output_type": "execute_result"
    }
   ],
   "source": [
    "f(arange(4))"
   ]
  },
  {
   "cell_type": "code",
   "execution_count": null,
   "metadata": {},
   "outputs": [],
   "source": []
  }
 ],
 "metadata": {
  "kernelspec": {
   "display_name": "Python 3",
   "language": "python",
   "name": "python3"
  },
  "language_info": {
   "codemirror_mode": {
    "name": "ipython",
    "version": 3
   },
   "file_extension": ".py",
   "mimetype": "text/x-python",
   "name": "python",
   "nbconvert_exporter": "python",
   "pygments_lexer": "ipython3",
   "version": "3.5.4"
  }
 },
 "nbformat": 4,
 "nbformat_minor": 2
}
